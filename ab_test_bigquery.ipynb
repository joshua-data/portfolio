{
  "cells": [
    {
      "cell_type": "markdown",
      "metadata": {},
      "source": [
        "# 0. Preparation"
      ]
    },
    {
      "cell_type": "markdown",
      "metadata": {
        "id": "4tew41OFMLKI"
      },
      "source": [
        "### 0.1. Load Libraries"
      ]
    },
    {
      "cell_type": "code",
      "execution_count": 1,
      "metadata": {
        "colab": {
          "base_uri": "https://localhost:8080/"
        },
        "id": "vT1MeVrHI0H9",
        "outputId": "ef1e10ec-fe68-4815-9e09-e43033b2401a"
      },
      "outputs": [],
      "source": [
        "# Environment Variables\n",
        "import os\n",
        "from dotenv import load_dotenv\n",
        "\n",
        "# BigQuery Connection\n",
        "from google.oauth2 import service_account\n",
        "from google.cloud import bigquery\n",
        "\n",
        "# Numpy & Pandas\n",
        "import numpy as np\n",
        "import pandas as pd\n",
        "\n",
        "# Visualization\n",
        "import matplotlib.pyplot as plt\n",
        "import seaborn as sns\n",
        "%matplotlib inline\n",
        "\n",
        "# Statistics\n",
        "import scipy.stats as stats\n",
        "from scipy.stats import chi2_contingency\n",
        "from statsmodels.stats import proportion\n",
        "\n",
        "# Ignore Warning\n",
        "import warnings\n",
        "warnings.filterwarnings(action='ignore')"
      ]
    },
    {
      "cell_type": "markdown",
      "metadata": {},
      "source": [
        "### 0.2. Environment Variables"
      ]
    },
    {
      "cell_type": "code",
      "execution_count": 2,
      "metadata": {},
      "outputs": [],
      "source": [
        "load_dotenv()\n",
        "\n",
        "BIGQUERY_CREDENTIALS_FPATH = os.getenv('BIGQUERY_CREDENTIALS_FPATH')\n",
        "BIGQUERY_PROJECT_NAME = os.getenv('BIGQUERY_PROJECT_NAME')\n",
        "BIGQUERY_DATASET_NAME = os.getenv('BIGQUERY_DATASET_NAME')\n",
        "BIGQUERY_TABLE_NAME = 'events_*'\n",
        "BIGQUERY_TABLE_ID = f'{BIGQUERY_PROJECT_NAME}.{BIGQUERY_DATASET_NAME}.{BIGQUERY_TABLE_NAME}'\n",
        "\n",
        "EXPERIMENT_ID = os.getenv('EXPERIMENT_ID')\n",
        "START_DATE = os.getenv('START_DATE')\n",
        "END_DATE = os.getenv('END_DATE')"
      ]
    },
    {
      "cell_type": "markdown",
      "metadata": {
        "id": "2J9yhNfMK_2w"
      },
      "source": [
        "### 0.3. Connect to BigQuery"
      ]
    },
    {
      "cell_type": "code",
      "execution_count": 3,
      "metadata": {
        "id": "BL0onkFBK_6f"
      },
      "outputs": [
        {
          "name": "stdout",
          "output_type": "stream",
          "text": [
            "BigQuery is Connected!\n"
          ]
        }
      ],
      "source": [
        "credentials = service_account.Credentials.from_service_account_file(BIGQUERY_CREDENTIALS_FPATH)\n",
        "\n",
        "client = bigquery.Client(\n",
        "    credentials = credentials,\n",
        "    project = credentials.project_id\n",
        ")\n",
        "\n",
        "if client:\n",
        "    print('BigQuery is Connected!')"
      ]
    },
    {
      "cell_type": "markdown",
      "metadata": {
        "id": "auwABhyyOL29"
      },
      "source": [
        "### 0.4. Experiment Info"
      ]
    },
    {
      "cell_type": "code",
      "execution_count": 4,
      "metadata": {
        "id": "RHay_OcbOL2-"
      },
      "outputs": [
        {
          "name": "stdout",
          "output_type": "stream",
          "text": [
            "Confidence Level: 0.95\n",
            "Type 1 Error (alpha): 0.05\n"
          ]
        }
      ],
      "source": [
        "CONFIDENCE_LEVEL = 0.95\n",
        "ALPHA = 1 - CONFIDENCE_LEVEL\n",
        "\n",
        "print(f'Confidence Level: {CONFIDENCE_LEVEL:.2f}')\n",
        "print(f'Type 1 Error (alpha): {ALPHA:.2f}')"
      ]
    },
    {
      "cell_type": "markdown",
      "metadata": {
        "id": "3PjAT2Nqg9fL"
      },
      "source": [
        "# 1. Independence Test"
      ]
    },
    {
      "cell_type": "markdown",
      "metadata": {
        "id": "ORsAAhPihO5x"
      },
      "source": [
        "### 1.1. Extract Raw Data"
      ]
    },
    {
      "cell_type": "code",
      "execution_count": 5,
      "metadata": {
        "id": "Cy1XHvv0hOD6"
      },
      "outputs": [
        {
          "data": {
            "text/html": [
              "<div>\n",
              "<style scoped>\n",
              "    .dataframe tbody tr th:only-of-type {\n",
              "        vertical-align: middle;\n",
              "    }\n",
              "\n",
              "    .dataframe tbody tr th {\n",
              "        vertical-align: top;\n",
              "    }\n",
              "\n",
              "    .dataframe thead th {\n",
              "        text-align: right;\n",
              "    }\n",
              "</style>\n",
              "<table border=\"1\" class=\"dataframe\">\n",
              "  <thead>\n",
              "    <tr style=\"text-align: right;\">\n",
              "      <th></th>\n",
              "      <th>test_group</th>\n",
              "      <th>country</th>\n",
              "      <th>device_type</th>\n",
              "    </tr>\n",
              "  </thead>\n",
              "  <tbody>\n",
              "    <tr>\n",
              "      <th>0</th>\n",
              "      <td>B</td>\n",
              "      <td>Others</td>\n",
              "      <td>mobile</td>\n",
              "    </tr>\n",
              "    <tr>\n",
              "      <th>1</th>\n",
              "      <td>B</td>\n",
              "      <td>Others</td>\n",
              "      <td>mobile</td>\n",
              "    </tr>\n",
              "    <tr>\n",
              "      <th>2</th>\n",
              "      <td>A</td>\n",
              "      <td>South Korea</td>\n",
              "      <td>desktop</td>\n",
              "    </tr>\n",
              "    <tr>\n",
              "      <th>3</th>\n",
              "      <td>B</td>\n",
              "      <td>South Korea</td>\n",
              "      <td>mobile</td>\n",
              "    </tr>\n",
              "    <tr>\n",
              "      <th>4</th>\n",
              "      <td>B</td>\n",
              "      <td>South Korea</td>\n",
              "      <td>mobile</td>\n",
              "    </tr>\n",
              "  </tbody>\n",
              "</table>\n",
              "</div>"
            ],
            "text/plain": [
              "  test_group      country device_type\n",
              "0          B       Others      mobile\n",
              "1          B       Others      mobile\n",
              "2          A  South Korea     desktop\n",
              "3          B  South Korea      mobile\n",
              "4          B  South Korea      mobile"
            ]
          },
          "execution_count": 5,
          "metadata": {},
          "output_type": "execute_result"
        }
      ],
      "source": [
        "SQL = f\"\"\"\n",
        "    WITH\n",
        "    CTE_raw AS (\n",
        "        SELECT\n",
        "            DISTINCT\n",
        "            user_pseudo_id,\n",
        "            (SELECT value.string_value FROM UNNEST (event_params) WHERE key = 'variant_id') AS variant_id,\n",
        "            geo.country,\n",
        "            device.category AS device_type\n",
        "        FROM\n",
        "            `{BIGQUERY_TABLE_ID}`\n",
        "        WHERE\n",
        "            _table_suffix BETWEEN FORMAT_DATE('%Y%m%d', '{START_DATE}') AND FORMAT_DATE('%Y%m%d', '{END_DATE}')\n",
        "            AND event_name = 'experiment_impression'\n",
        "            AND (SELECT value.string_value FROM UNNEST (event_params) WHERE key = 'experiment_id') = '{EXPERIMENT_ID}'\n",
        "            AND user_pseudo_ID IS NOT NULL\n",
        "    )\n",
        "    SELECT\n",
        "        user_pseudo_id,\n",
        "        CASE\n",
        "            WHEN ENDS_WITH(variant_id, '.0') THEN 'A'\n",
        "            WHEN ENDS_WITH(variant_id, '.1') THEN 'B'\n",
        "        END AS test_group,\n",
        "        CASE\n",
        "            WHEN country IN ('South Korea', 'United States') THEN country\n",
        "            ELSE 'Others'\n",
        "        END AS country,\n",
        "        CASE\n",
        "            WHEN device_type IN ('desktop', 'mobile', 'tablet') THEN device_type\n",
        "            ELSE 'others'\n",
        "        END AS device_type\n",
        "    FROM\n",
        "        CTE_raw\n",
        "\"\"\"\n",
        "\n",
        "results = client.query(SQL)\n",
        "independence_df = results.to_dataframe()\n",
        "independence_df.drop(columns=['user_pseudo_id']).head()"
      ]
    },
    {
      "cell_type": "markdown",
      "metadata": {
        "id": "QOghSRsGoS-M"
      },
      "source": [
        "### 1.2. Independence Test"
      ]
    },
    {
      "cell_type": "markdown",
      "metadata": {
        "id": "7RWrh0r58NIF"
      },
      "source": [
        "* (1) Country"
      ]
    },
    {
      "cell_type": "code",
      "execution_count": 6,
      "metadata": {
        "colab": {
          "base_uri": "https://localhost:8080/"
        },
        "id": "BTS-s5veoc4L",
        "outputId": "62e45a6f-4efc-4444-e813-d087b2f36008"
      },
      "outputs": [
        {
          "name": "stdout",
          "output_type": "stream",
          "text": [
            "chi-squared: 1.5749\n",
            "p-value: 0.4550\n",
            "Countries and Test Groups are Independent.\n"
          ]
        }
      ],
      "source": [
        "countries = independence_df[['test_group', 'country']]\n",
        "contingency_table = pd.crosstab(\n",
        "    countries['test_group'],\n",
        "    countries['country']\n",
        ")\n",
        "\n",
        "chi_value, p_value, df, expected = chi2_contingency(contingency_table)\n",
        "print(f'chi-squared: {chi_value:.4f}')\n",
        "print(f'p-value: {p_value:.4f}')\n",
        "\n",
        "if p_value < ALPHA:\n",
        "  print('Countries and Test Groups are Related.')\n",
        "else:\n",
        "  print('Countries and Test Groups are Independent.')"
      ]
    },
    {
      "cell_type": "markdown",
      "metadata": {
        "id": "-kkmMeYkoZMp"
      },
      "source": [
        "* (2) Device Type"
      ]
    },
    {
      "cell_type": "code",
      "execution_count": 7,
      "metadata": {
        "colab": {
          "base_uri": "https://localhost:8080/"
        },
        "id": "ePsyRj4hj8_Z",
        "outputId": "71aca816-32b3-489e-850b-33ebfac99784"
      },
      "outputs": [
        {
          "name": "stdout",
          "output_type": "stream",
          "text": [
            "chi-squared: 4.7465\n",
            "p-value: 0.0932\n",
            "Countries and Test Groups are Independent.\n"
          ]
        }
      ],
      "source": [
        "device_types = independence_df[['test_group', 'device_type']]\n",
        "contingency_table = pd.crosstab(\n",
        "    device_types['test_group'],\n",
        "    device_types['device_type']\n",
        ")\n",
        "\n",
        "chi_value, p_value, df, expected = chi2_contingency(contingency_table)\n",
        "print(f'chi-squared: {chi_value:.4f}')\n",
        "print(f'p-value: {p_value:.4f}')\n",
        "\n",
        "if p_value < ALPHA:\n",
        "  print('Countries and Test Groups are Related.')\n",
        "else:\n",
        "  print('Countries and Test Groups are Independent.')"
      ]
    },
    {
      "cell_type": "markdown",
      "metadata": {
        "id": "hkbZi9A4OL2-"
      },
      "source": [
        "# 2. Extract Raw Data"
      ]
    },
    {
      "cell_type": "markdown",
      "metadata": {
        "id": "2vxtHS5fOL2-"
      },
      "source": [
        "### 2.1. Purchase CVR, Add-to-cart CVR, Begin-checkout CVR"
      ]
    },
    {
      "cell_type": "code",
      "execution_count": 8,
      "metadata": {
        "id": "SLnYVY5JK_-O"
      },
      "outputs": [],
      "source": [
        "EVENT_NAMES = ['purchase', 'add_to_cart', 'begin_checkout']\n",
        "\n",
        "for EVENT_NAME in EVENT_NAMES:\n",
        "  SQL = f\"\"\"\n",
        "        WITH\n",
        "        CTE_raw AS (\n",
        "            SELECT\n",
        "                user_pseudo_id,\n",
        "                event_timestamp,\n",
        "                event_name,\n",
        "                (SELECT value.string_value FROM UNNEST (event_params) WHERE key = 'experiment_id') AS experiment_id,\n",
        "                (SELECT value.string_value FROM UNNEST (event_params) WHERE key = 'variant_id') AS variant_id\n",
        "            FROM\n",
        "                `{BIGQUERY_TABLE_ID}`\n",
        "            WHERE\n",
        "                _table_suffix BETWEEN FORMAT_DATE('%Y%m%d', '{START_DATE}') AND FORMAT_DATE('%Y%m%d', '{END_DATE}')\n",
        "                AND event_name IN ('experiment_impression', '{EVENT_NAME}')\n",
        "                AND user_pseudo_ID IS NOT NULL\n",
        "                AND event_timestamp IS NOT NULL\n",
        "        ),\n",
        "        CTE_users_assigned AS (\n",
        "            SELECT\n",
        "                user_pseudo_id,\n",
        "                CASE\n",
        "                    WHEN ENDS_WITH(variant_id, '.0') THEN 'A'\n",
        "                    WHEN ENDS_WITH(variant_id, '.1') THEN 'B'\n",
        "                END AS test_group,\n",
        "                MIN(event_timestamp) AS assigned_timestamp\n",
        "            FROM\n",
        "                CTE_raw\n",
        "            WHERE\n",
        "                event_name = 'experiment_impression'\n",
        "                AND experiment_id = '{EXPERIMENT_ID}'\n",
        "                AND variant_id IS NOT NULL\n",
        "            GROUP BY\n",
        "                1, 2\n",
        "        ),\n",
        "        CTE_users_converted AS (\n",
        "            SELECT\n",
        "                user_pseudo_id,\n",
        "                event_timestamp AS converted_timestamp\n",
        "            FROM\n",
        "                CTE_raw\n",
        "            WHERE\n",
        "                event_name = '{EVENT_NAME}'\n",
        "        ),\n",
        "        CTE_users_assigned_converted AS (\n",
        "            SELECT\n",
        "                DISTINCT\n",
        "                A.user_pseudo_id\n",
        "            FROM\n",
        "                CTE_users_converted C\n",
        "            LEFT JOIN\n",
        "                CTE_users_assigned A\n",
        "                ON C.user_pseudo_id = A.user_pseudo_id\n",
        "                AND C.converted_timestamp >= A.assigned_timestamp\n",
        "        )\n",
        "        SELECT\n",
        "            A.user_pseudo_id,\n",
        "            A.test_group,\n",
        "            CASE\n",
        "                WHEN AC.user_pseudo_id IS NOT NULL THEN 1\n",
        "                ELSE 0\n",
        "            END AS converted\n",
        "        FROM\n",
        "            CTE_users_assigned A\n",
        "        LEFT JOIN\n",
        "            CTE_users_assigned_converted AC\n",
        "            ON A.user_pseudo_id = AC.user_pseudo_id\n",
        "  \"\"\"\n",
        "\n",
        "  results = client.query(SQL)\n",
        "  if EVENT_NAME == 'purchase':\n",
        "    purchase_cvr_df = results.to_dataframe()\n",
        "  elif EVENT_NAME == 'add_to_cart':\n",
        "    addtocart_cvr_df = results.to_dataframe()\n",
        "  elif EVENT_NAME == 'begin_checkout':\n",
        "    begincheckout_cvr_df = results.to_dataframe()"
      ]
    },
    {
      "cell_type": "code",
      "execution_count": 9,
      "metadata": {},
      "outputs": [
        {
          "data": {
            "text/html": [
              "<div>\n",
              "<style scoped>\n",
              "    .dataframe tbody tr th:only-of-type {\n",
              "        vertical-align: middle;\n",
              "    }\n",
              "\n",
              "    .dataframe tbody tr th {\n",
              "        vertical-align: top;\n",
              "    }\n",
              "\n",
              "    .dataframe thead th {\n",
              "        text-align: right;\n",
              "    }\n",
              "</style>\n",
              "<table border=\"1\" class=\"dataframe\">\n",
              "  <thead>\n",
              "    <tr style=\"text-align: right;\">\n",
              "      <th></th>\n",
              "      <th>test_group</th>\n",
              "      <th>converted</th>\n",
              "    </tr>\n",
              "  </thead>\n",
              "  <tbody>\n",
              "    <tr>\n",
              "      <th>0</th>\n",
              "      <td>A</td>\n",
              "      <td>1</td>\n",
              "    </tr>\n",
              "    <tr>\n",
              "      <th>1</th>\n",
              "      <td>B</td>\n",
              "      <td>0</td>\n",
              "    </tr>\n",
              "    <tr>\n",
              "      <th>2</th>\n",
              "      <td>A</td>\n",
              "      <td>1</td>\n",
              "    </tr>\n",
              "    <tr>\n",
              "      <th>3</th>\n",
              "      <td>B</td>\n",
              "      <td>0</td>\n",
              "    </tr>\n",
              "    <tr>\n",
              "      <th>4</th>\n",
              "      <td>A</td>\n",
              "      <td>0</td>\n",
              "    </tr>\n",
              "  </tbody>\n",
              "</table>\n",
              "</div>"
            ],
            "text/plain": [
              "  test_group  converted\n",
              "0          A          1\n",
              "1          B          0\n",
              "2          A          1\n",
              "3          B          0\n",
              "4          A          0"
            ]
          },
          "execution_count": 9,
          "metadata": {},
          "output_type": "execute_result"
        }
      ],
      "source": [
        "purchase_cvr_df.drop(columns=['user_pseudo_id']).head()"
      ]
    },
    {
      "cell_type": "code",
      "execution_count": 10,
      "metadata": {},
      "outputs": [
        {
          "data": {
            "text/html": [
              "<div>\n",
              "<style scoped>\n",
              "    .dataframe tbody tr th:only-of-type {\n",
              "        vertical-align: middle;\n",
              "    }\n",
              "\n",
              "    .dataframe tbody tr th {\n",
              "        vertical-align: top;\n",
              "    }\n",
              "\n",
              "    .dataframe thead th {\n",
              "        text-align: right;\n",
              "    }\n",
              "</style>\n",
              "<table border=\"1\" class=\"dataframe\">\n",
              "  <thead>\n",
              "    <tr style=\"text-align: right;\">\n",
              "      <th></th>\n",
              "      <th>test_group</th>\n",
              "      <th>converted</th>\n",
              "    </tr>\n",
              "  </thead>\n",
              "  <tbody>\n",
              "    <tr>\n",
              "      <th>0</th>\n",
              "      <td>B</td>\n",
              "      <td>0</td>\n",
              "    </tr>\n",
              "    <tr>\n",
              "      <th>1</th>\n",
              "      <td>A</td>\n",
              "      <td>0</td>\n",
              "    </tr>\n",
              "    <tr>\n",
              "      <th>2</th>\n",
              "      <td>B</td>\n",
              "      <td>0</td>\n",
              "    </tr>\n",
              "    <tr>\n",
              "      <th>3</th>\n",
              "      <td>B</td>\n",
              "      <td>0</td>\n",
              "    </tr>\n",
              "    <tr>\n",
              "      <th>4</th>\n",
              "      <td>B</td>\n",
              "      <td>0</td>\n",
              "    </tr>\n",
              "  </tbody>\n",
              "</table>\n",
              "</div>"
            ],
            "text/plain": [
              "  test_group  converted\n",
              "0          B          0\n",
              "1          A          0\n",
              "2          B          0\n",
              "3          B          0\n",
              "4          B          0"
            ]
          },
          "execution_count": 10,
          "metadata": {},
          "output_type": "execute_result"
        }
      ],
      "source": [
        "addtocart_cvr_df.drop(columns=['user_pseudo_id']).head()"
      ]
    },
    {
      "cell_type": "code",
      "execution_count": 11,
      "metadata": {},
      "outputs": [
        {
          "data": {
            "text/html": [
              "<div>\n",
              "<style scoped>\n",
              "    .dataframe tbody tr th:only-of-type {\n",
              "        vertical-align: middle;\n",
              "    }\n",
              "\n",
              "    .dataframe tbody tr th {\n",
              "        vertical-align: top;\n",
              "    }\n",
              "\n",
              "    .dataframe thead th {\n",
              "        text-align: right;\n",
              "    }\n",
              "</style>\n",
              "<table border=\"1\" class=\"dataframe\">\n",
              "  <thead>\n",
              "    <tr style=\"text-align: right;\">\n",
              "      <th></th>\n",
              "      <th>test_group</th>\n",
              "      <th>converted</th>\n",
              "    </tr>\n",
              "  </thead>\n",
              "  <tbody>\n",
              "    <tr>\n",
              "      <th>0</th>\n",
              "      <td>B</td>\n",
              "      <td>0</td>\n",
              "    </tr>\n",
              "    <tr>\n",
              "      <th>1</th>\n",
              "      <td>B</td>\n",
              "      <td>0</td>\n",
              "    </tr>\n",
              "    <tr>\n",
              "      <th>2</th>\n",
              "      <td>A</td>\n",
              "      <td>1</td>\n",
              "    </tr>\n",
              "    <tr>\n",
              "      <th>3</th>\n",
              "      <td>B</td>\n",
              "      <td>0</td>\n",
              "    </tr>\n",
              "    <tr>\n",
              "      <th>4</th>\n",
              "      <td>A</td>\n",
              "      <td>0</td>\n",
              "    </tr>\n",
              "  </tbody>\n",
              "</table>\n",
              "</div>"
            ],
            "text/plain": [
              "  test_group  converted\n",
              "0          B          0\n",
              "1          B          0\n",
              "2          A          1\n",
              "3          B          0\n",
              "4          A          0"
            ]
          },
          "execution_count": 11,
          "metadata": {},
          "output_type": "execute_result"
        }
      ],
      "source": [
        "begincheckout_cvr_df.drop(columns=['user_pseudo_id']).head()"
      ]
    },
    {
      "cell_type": "markdown",
      "metadata": {
        "id": "pCe-YVCSIEsp"
      },
      "source": [
        "### 2.2. Other Platforms CVR"
      ]
    },
    {
      "cell_type": "code",
      "execution_count": 12,
      "metadata": {
        "id": "OhP0HiaPIFKS"
      },
      "outputs": [
        {
          "data": {
            "text/html": [
              "<div>\n",
              "<style scoped>\n",
              "    .dataframe tbody tr th:only-of-type {\n",
              "        vertical-align: middle;\n",
              "    }\n",
              "\n",
              "    .dataframe tbody tr th {\n",
              "        vertical-align: top;\n",
              "    }\n",
              "\n",
              "    .dataframe thead th {\n",
              "        text-align: right;\n",
              "    }\n",
              "</style>\n",
              "<table border=\"1\" class=\"dataframe\">\n",
              "  <thead>\n",
              "    <tr style=\"text-align: right;\">\n",
              "      <th></th>\n",
              "      <th>test_group</th>\n",
              "      <th>converted</th>\n",
              "    </tr>\n",
              "  </thead>\n",
              "  <tbody>\n",
              "    <tr>\n",
              "      <th>0</th>\n",
              "      <td>B</td>\n",
              "      <td>0</td>\n",
              "    </tr>\n",
              "    <tr>\n",
              "      <th>1</th>\n",
              "      <td>B</td>\n",
              "      <td>0</td>\n",
              "    </tr>\n",
              "    <tr>\n",
              "      <th>2</th>\n",
              "      <td>B</td>\n",
              "      <td>0</td>\n",
              "    </tr>\n",
              "    <tr>\n",
              "      <th>3</th>\n",
              "      <td>A</td>\n",
              "      <td>0</td>\n",
              "    </tr>\n",
              "    <tr>\n",
              "      <th>4</th>\n",
              "      <td>A</td>\n",
              "      <td>0</td>\n",
              "    </tr>\n",
              "  </tbody>\n",
              "</table>\n",
              "</div>"
            ],
            "text/plain": [
              "  test_group  converted\n",
              "0          B          0\n",
              "1          B          0\n",
              "2          B          0\n",
              "3          A          0\n",
              "4          A          0"
            ]
          },
          "execution_count": 12,
          "metadata": {},
          "output_type": "execute_result"
        }
      ],
      "source": [
        "SQL = f\"\"\"\n",
        "    WITH\n",
        "    CTE_raw AS (\n",
        "        SELECT\n",
        "            user_pseudo_id,\n",
        "            event_timestamp,\n",
        "            event_name,\n",
        "            REPLACE(\n",
        "                REGEXP_REPLACE(\n",
        "                    REGEXP_REPLACE(\n",
        "                        LOWER((SELECT value.string_value FROM UNNEST (event_params) WHERE key = 'page_location')),\n",
        "                        r'(\\?.*)$', ''\n",
        "                    ),\n",
        "                    r'/$', ''\n",
        "                ),\n",
        "                'https://', ''\n",
        "            ) AS page_location,\n",
        "            REPLACE(\n",
        "                REGEXP_REPLACE(\n",
        "                    REGEXP_REPLACE(\n",
        "                        LOWER((SELECT value.string_value FROM UNNEST (event_params) WHERE key = 'link_url')),\n",
        "                        r'(\\?.*)$', ''\n",
        "                    ),\n",
        "                    r'/$', ''\n",
        "                ),\n",
        "                'https://', ''\n",
        "            ) AS link_url,\n",
        "            (SELECT value.string_value FROM UNNEST (event_params) WHERE key = 'experiment_id') AS experiment_id,\n",
        "            (SELECT value.string_value FROM UNNEST (event_params) WHERE key = 'variant_id') AS variant_id\n",
        "        FROM\n",
        "            `{BIGQUERY_TABLE_ID}`\n",
        "        WHERE\n",
        "            _table_suffix BETWEEN FORMAT_DATE('%Y%m%d', '{START_DATE}') AND FORMAT_DATE('%Y%m%d', '{END_DATE}')\n",
        "            AND event_name IN ('experiment_impression', 'click')\n",
        "            AND user_pseudo_ID IS NOT NULL\n",
        "            AND event_timestamp IS NOT NULL\n",
        "    ),\n",
        "    CTE_users_assigned AS (\n",
        "        SELECT\n",
        "            user_pseudo_id,\n",
        "            CASE\n",
        "                WHEN ENDS_WITH(variant_id, '.0') THEN 'A'\n",
        "                WHEN ENDS_WITH(variant_id, '.1') THEN 'B'\n",
        "            END AS test_group,\n",
        "            MIN(event_timestamp) AS assigned_timestamp\n",
        "        FROM\n",
        "            CTE_raw\n",
        "        WHERE\n",
        "            event_name = 'experiment_impression'\n",
        "            AND experiment_id = '{EXPERIMENT_ID}'\n",
        "            AND variant_id IS NOT NULL\n",
        "        GROUP BY\n",
        "            1, 2\n",
        "    ),\n",
        "    CTE_users_converted AS (\n",
        "        SELECT\n",
        "            user_pseudo_id,\n",
        "            event_timestamp AS converted_timestamp\n",
        "        FROM\n",
        "            CTE_raw\n",
        "        WHERE\n",
        "            event_name = 'click'\n",
        "            AND page_location LIKE '%/shoplist%'\n",
        "            AND (\n",
        "            link_url LIKE '%amazon%'\n",
        "            OR link_url LIKE '%smartstore.naver%'\n",
        "            OR link_url LIKE '%auction%'\n",
        "            OR link_url LIKE '%11st%'\n",
        "            OR link_url LIKE '%gmarket%'\n",
        "            )\n",
        "    ),\n",
        "    CTE_users_assigned_converted AS (\n",
        "        SELECT\n",
        "            DISTINCT\n",
        "            A.user_pseudo_id\n",
        "        FROM\n",
        "            CTE_users_converted C\n",
        "        LEFT JOIN\n",
        "            CTE_users_assigned A\n",
        "            ON C.user_pseudo_id = A.user_pseudo_id\n",
        "            AND C.converted_timestamp >= A.assigned_timestamp\n",
        "    )\n",
        "    SELECT\n",
        "        A.user_pseudo_id,\n",
        "        A.test_group,\n",
        "        CASE\n",
        "            WHEN AC.user_pseudo_id IS NOT NULL THEN 1\n",
        "            ELSE 0\n",
        "        END AS converted\n",
        "    FROM\n",
        "        CTE_users_assigned A\n",
        "    LEFT JOIN\n",
        "        CTE_users_assigned_converted AC\n",
        "        ON A.user_pseudo_id = AC.user_pseudo_id\n",
        "\"\"\"\n",
        "\n",
        "results = client.query(SQL)\n",
        "otherplatforms_cvr_df = results.to_dataframe()\n",
        "otherplatforms_cvr_df.drop(columns=['user_pseudo_id']).head()"
      ]
    },
    {
      "cell_type": "markdown",
      "metadata": {
        "id": "2EsGfgGNLANc"
      },
      "source": [
        "### 2.3. ARPU"
      ]
    },
    {
      "cell_type": "code",
      "execution_count": 13,
      "metadata": {
        "id": "qx2JdJRiOL3A"
      },
      "outputs": [
        {
          "data": {
            "text/html": [
              "<div>\n",
              "<style scoped>\n",
              "    .dataframe tbody tr th:only-of-type {\n",
              "        vertical-align: middle;\n",
              "    }\n",
              "\n",
              "    .dataframe tbody tr th {\n",
              "        vertical-align: top;\n",
              "    }\n",
              "\n",
              "    .dataframe thead th {\n",
              "        text-align: right;\n",
              "    }\n",
              "</style>\n",
              "<table border=\"1\" class=\"dataframe\">\n",
              "  <thead>\n",
              "    <tr style=\"text-align: right;\">\n",
              "      <th></th>\n",
              "      <th>test_group</th>\n",
              "      <th>revenue</th>\n",
              "    </tr>\n",
              "  </thead>\n",
              "  <tbody>\n",
              "    <tr>\n",
              "      <th>0</th>\n",
              "      <td>B</td>\n",
              "      <td>0.0</td>\n",
              "    </tr>\n",
              "    <tr>\n",
              "      <th>1</th>\n",
              "      <td>B</td>\n",
              "      <td>0.0</td>\n",
              "    </tr>\n",
              "    <tr>\n",
              "      <th>2</th>\n",
              "      <td>B</td>\n",
              "      <td>0.0</td>\n",
              "    </tr>\n",
              "    <tr>\n",
              "      <th>3</th>\n",
              "      <td>B</td>\n",
              "      <td>0.0</td>\n",
              "    </tr>\n",
              "    <tr>\n",
              "      <th>4</th>\n",
              "      <td>B</td>\n",
              "      <td>0.0</td>\n",
              "    </tr>\n",
              "  </tbody>\n",
              "</table>\n",
              "</div>"
            ],
            "text/plain": [
              "  test_group  revenue\n",
              "0          B      0.0\n",
              "1          B      0.0\n",
              "2          B      0.0\n",
              "3          B      0.0\n",
              "4          B      0.0"
            ]
          },
          "execution_count": 13,
          "metadata": {},
          "output_type": "execute_result"
        }
      ],
      "source": [
        "SQL = f\"\"\"\n",
        "      WITH\n",
        "      CTE_raw AS (\n",
        "          SELECT\n",
        "              user_pseudo_id,\n",
        "              event_timestamp,\n",
        "              event_name,\n",
        "              ecommerce.purchase_revenue_in_usd AS revenue,\n",
        "              (SELECT value.string_value FROM UNNEST (event_params) WHERE key = 'experiment_id') AS experiment_id,\n",
        "              (SELECT value.string_value FROM UNNEST (event_params) WHERE key = 'variant_id') AS variant_id\n",
        "          FROM\n",
        "              `{BIGQUERY_TABLE_ID}`\n",
        "          WHERE\n",
        "              _table_suffix BETWEEN FORMAT_DATE('%Y%m%d', '{START_DATE}') AND FORMAT_DATE('%Y%m%d', '{END_DATE}')\n",
        "              AND event_name IN ('experiment_impression', 'purchase')\n",
        "              AND user_pseudo_ID IS NOT NULL\n",
        "              AND event_timestamp IS NOT NULL\n",
        "      ),\n",
        "      CTE_users_assigned AS (\n",
        "          SELECT\n",
        "              user_pseudo_id,\n",
        "              CASE\n",
        "                  WHEN ENDS_WITH(variant_id, '.0') THEN 'A'\n",
        "                  WHEN ENDS_WITH(variant_id, '.1') THEN 'B'\n",
        "              END AS test_group,\n",
        "              MIN(event_timestamp) AS assigned_timestamp\n",
        "          FROM\n",
        "              CTE_raw\n",
        "          WHERE\n",
        "              event_name = 'experiment_impression'\n",
        "              AND experiment_id = '{EXPERIMENT_ID}'\n",
        "              AND variant_id IS NOT NULL\n",
        "          GROUP BY\n",
        "              1, 2\n",
        "      ),\n",
        "      CTE_users_revenue AS (\n",
        "          SELECT\n",
        "              user_pseudo_id,\n",
        "              event_timestamp AS purchased_timestamp,\n",
        "              revenue\n",
        "          FROM\n",
        "              CTE_raw\n",
        "          WHERE\n",
        "              event_name = 'purchase'\n",
        "      ),\n",
        "      CTE_users_assigned_revenue AS (\n",
        "          SELECT\n",
        "              A.user_pseudo_id,\n",
        "              SUM(R.revenue) AS revenue\n",
        "          FROM\n",
        "              CTE_users_revenue R\n",
        "          LEFT JOIN\n",
        "              CTE_users_assigned A\n",
        "              ON R.user_pseudo_id = A.user_pseudo_id\n",
        "              AND R.purchased_timestamp > A.assigned_timestamp\n",
        "          GROUP BY\n",
        "              1\n",
        "      )\n",
        "      SELECT\n",
        "          A.user_pseudo_id,\n",
        "          A.test_group,\n",
        "          COALESCE(AR.revenue, 0) AS revenue\n",
        "      FROM\n",
        "          CTE_users_assigned A\n",
        "      LEFT JOIN\n",
        "          CTE_users_assigned_revenue AR\n",
        "          ON A.user_pseudo_id = AR.user_pseudo_id\n",
        "\"\"\"\n",
        "\n",
        "results = client.query(SQL)\n",
        "arpu_df = results.to_dataframe()\n",
        "arpu_df.drop(columns=['user_pseudo_id']).head()"
      ]
    },
    {
      "cell_type": "markdown",
      "metadata": {
        "id": "BUEc6_OwOL3E"
      },
      "source": [
        "# 3. Analysis"
      ]
    },
    {
      "cell_type": "markdown",
      "metadata": {
        "id": "jYfB4S3AOL3E"
      },
      "source": [
        "### 3.1. Key Metrics (1) Purchase CVR"
      ]
    },
    {
      "cell_type": "markdown",
      "metadata": {
        "id": "QX2qSZFeOL3E"
      },
      "source": [
        "* (1) Assumption"
      ]
    },
    {
      "cell_type": "code",
      "execution_count": 14,
      "metadata": {
        "colab": {
          "base_uri": "https://localhost:8080/"
        },
        "id": "Cttae1eKLNz9",
        "outputId": "8dbfbfee-7527-4275-95fb-96e9666db0e4"
      },
      "outputs": [
        {
          "name": "stdout",
          "output_type": "stream",
          "text": [
            "Good to go!\n"
          ]
        }
      ],
      "source": [
        "na = purchase_cvr_df.groupby('test_group')['user_pseudo_id'].count()['A']\n",
        "nb = purchase_cvr_df.groupby('test_group')['user_pseudo_id'].count()['B']\n",
        "\n",
        "xa = purchase_cvr_df.groupby('test_group')['converted'].sum()['A']\n",
        "xb = purchase_cvr_df.groupby('test_group')['converted'].sum()['B']\n",
        "\n",
        "pa = xa / na\n",
        "pb = xb / nb\n",
        "\n",
        "if (na * pa < 5) or (na * (1 - pa) < 5) or (nb * pb < 5) or (nb * (1 - pb) < 5):\n",
        "    print('Assumption Not Satisfied!')\n",
        "else:\n",
        "    print('Good to go!')"
      ]
    },
    {
      "cell_type": "markdown",
      "metadata": {
        "id": "VOXXm91aOL3E"
      },
      "source": [
        "* (2) Two-proportion z-test"
      ]
    },
    {
      "cell_type": "code",
      "execution_count": 15,
      "metadata": {
        "colab": {
          "base_uri": "https://localhost:8080/"
        },
        "id": "G4Rs9OrtOL3F",
        "outputId": "6fa869ec-3605-4f23-996e-e6876fed1fae"
      },
      "outputs": [
        {
          "name": "stdout",
          "output_type": "stream",
          "text": [
            "Analysis Results (Confidence Level: 95%)\n",
            "- Null hypothesis can NOT be rejected. (A >= B)\n",
            "===============================================\n",
            "p-value = 0.0984\n",
            "- Purchase CVR (A): xx %\n",
            "- Purchase CVR (B): xx %\n"
          ]
        }
      ],
      "source": [
        "z_result = proportion.proportions_ztest(\n",
        "    count = [xa, xb],\n",
        "    nobs = [na, nb],\n",
        "    alternative = 'smaller'\n",
        ")\n",
        "z, p_value_purchase_cvr = z_result\n",
        "\n",
        "print(f'Analysis Results (Confidence Level: {CONFIDENCE_LEVEL * 100:.0f}%)')\n",
        "\n",
        "if p_value_purchase_cvr < ALPHA:\n",
        "  print('- Null hypothesis can be rejected. (A < B)')\n",
        "else:\n",
        "  print('- Null hypothesis can NOT be rejected. (A >= B)')\n",
        "\n",
        "print('===============================================')\n",
        "\n",
        "print(f'p-value = {p_value_purchase_cvr:.4f}')\n",
        "print('- Purchase CVR (A):', 'xx %')\n",
        "print('- Purchase CVR (B):', 'xx %')"
      ]
    },
    {
      "cell_type": "markdown",
      "metadata": {
        "id": "DgiUdtl_OL3F"
      },
      "source": [
        "### 3.2. Key Metrics (2) ARPU"
      ]
    },
    {
      "cell_type": "markdown",
      "metadata": {
        "id": "axifZAq6OL3F"
      },
      "source": [
        "* (1) Assumption"
      ]
    },
    {
      "cell_type": "code",
      "execution_count": 16,
      "metadata": {
        "colab": {
          "base_uri": "https://localhost:8080/"
        },
        "id": "T2YCmB63OL3F",
        "outputId": "33a9bb0d-f5e7-49e1-abbe-73746602a5d3"
      },
      "outputs": [
        {
          "name": "stdout",
          "output_type": "stream",
          "text": [
            "Good to go!\n"
          ]
        }
      ],
      "source": [
        "na = arpu_df.groupby('test_group')['user_pseudo_id'].count()['A']\n",
        "nb = arpu_df.groupby('test_group')['user_pseudo_id'].count()['B']\n",
        "\n",
        "if na + nb < 30:\n",
        "    print('Assumption Not Satisfied!')\n",
        "else:\n",
        "    print('Good to go!')"
      ]
    },
    {
      "cell_type": "markdown",
      "metadata": {
        "id": "haxb0YEoOL3F"
      },
      "source": [
        "* (2) Equal-variance Test: Bartlett's Test"
      ]
    },
    {
      "cell_type": "code",
      "execution_count": 17,
      "metadata": {
        "colab": {
          "base_uri": "https://localhost:8080/"
        },
        "id": "MrPuPjUzOL3F",
        "outputId": "f04713ab-9dae-4d87-8f21-6c15326d9dbc"
      },
      "outputs": [
        {
          "name": "stdout",
          "output_type": "stream",
          "text": [
            "Equal-variance Test Results (Confidence Level: 95%)\n",
            "- Variances are equal!\n",
            "===============================================\n",
            "p-value = 0.1231\n"
          ]
        }
      ],
      "source": [
        "stat, p_value_bartlett = stats.bartlett(\n",
        "    arpu_df[arpu_df['test_group'] == 'A']['revenue'].reset_index(drop=True),\n",
        "    arpu_df[arpu_df['test_group'] == 'B']['revenue'].reset_index(drop=True)\n",
        ")\n",
        "\n",
        "print(f'Equal-variance Test Results (Confidence Level: {CONFIDENCE_LEVEL * 100:.0f}%)')\n",
        "\n",
        "if p_value_bartlett < ALPHA:\n",
        "  print('- Variances are NOT equal!')\n",
        "  EQUAL_VAR = False\n",
        "else:\n",
        "  print('- Variances are equal!')\n",
        "  EQUAL_VAR = True\n",
        "\n",
        "print('===============================================')\n",
        "\n",
        "print(f'p-value = {p_value_bartlett:.4f}')"
      ]
    },
    {
      "cell_type": "markdown",
      "metadata": {
        "id": "oei9c4neOL3G"
      },
      "source": [
        "* (3) Two-sample t-test"
      ]
    },
    {
      "cell_type": "code",
      "execution_count": 18,
      "metadata": {
        "colab": {
          "base_uri": "https://localhost:8080/"
        },
        "id": "ox3TtMQVOL3G",
        "outputId": "816ee80f-c3b9-4975-c989-fc8dc03e8b5f"
      },
      "outputs": [
        {
          "name": "stdout",
          "output_type": "stream",
          "text": [
            "Analysis Results (Confidence Level: 95%)\n",
            "- Null hypothesis can NOT be rejected. (A >= B)\n",
            "===============================================\n",
            "p-value = 0.2284\n",
            "- ARPU (A): US$ xx\n",
            "- ARPU (B): US$ xx\n"
          ]
        }
      ],
      "source": [
        "t_result = stats.ttest_ind(\n",
        "    arpu_df[arpu_df['test_group'] == 'A']['revenue'].reset_index(drop=True),\n",
        "    arpu_df[arpu_df['test_group'] == 'B']['revenue'].reset_index(drop=True),\n",
        "    equal_var = EQUAL_VAR,\n",
        "    alternative = 'less'\n",
        ")\n",
        "t, p_value_arpu = t_result\n",
        "\n",
        "print(f'Analysis Results (Confidence Level: {CONFIDENCE_LEVEL * 100:.0f}%)')\n",
        "\n",
        "if p_value_arpu < ALPHA:\n",
        "  print('- Null hypothesis can be rejected. (A < B)')\n",
        "else:\n",
        "  print('- Null hypothesis can NOT be rejected. (A >= B)')\n",
        "\n",
        "print('===============================================')\n",
        "\n",
        "mean_a = arpu_df.groupby('test_group')['revenue'].mean()[0]\n",
        "mean_b = arpu_df.groupby('test_group')['revenue'].mean()[1]\n",
        "\n",
        "print(f'p-value = {p_value_arpu:.4f}')\n",
        "print('- ARPU (A):', 'US$ xx')\n",
        "print('- ARPU (B):', 'US$ xx')"
      ]
    },
    {
      "cell_type": "markdown",
      "metadata": {
        "id": "JvnQBk54OL3G"
      },
      "source": [
        "### 3.3. Supplementary Metrics (1) Add-to-cart CVR"
      ]
    },
    {
      "cell_type": "markdown",
      "metadata": {
        "id": "d-soiMEOR2LK"
      },
      "source": [
        "* (1) Assumption"
      ]
    },
    {
      "cell_type": "code",
      "execution_count": 19,
      "metadata": {
        "colab": {
          "base_uri": "https://localhost:8080/"
        },
        "id": "WPJCy_F3R2LL",
        "outputId": "5233b873-2b2a-4d8a-fcc4-853bbe179535"
      },
      "outputs": [
        {
          "name": "stdout",
          "output_type": "stream",
          "text": [
            "Good to go!\n"
          ]
        }
      ],
      "source": [
        "na = addtocart_cvr_df.groupby('test_group')['user_pseudo_id'].count()['A']\n",
        "nb = addtocart_cvr_df.groupby('test_group')['user_pseudo_id'].count()['B']\n",
        "\n",
        "xa = addtocart_cvr_df.groupby('test_group')['converted'].sum()['A']\n",
        "xb = addtocart_cvr_df.groupby('test_group')['converted'].sum()['B']\n",
        "\n",
        "pa = xa / na\n",
        "pb = xb / nb\n",
        "\n",
        "if (na * pa < 5) or (na * (1 - pa) < 5) or (nb * pb < 5) or (nb * (1 - pb) < 5):\n",
        "    print('Assumption Not Satisfied!')\n",
        "else:\n",
        "    print('Good to go!')"
      ]
    },
    {
      "cell_type": "markdown",
      "metadata": {
        "id": "2eDKTT9ER2LL"
      },
      "source": [
        "* (2) Two-proportion z-test"
      ]
    },
    {
      "cell_type": "code",
      "execution_count": 20,
      "metadata": {
        "colab": {
          "base_uri": "https://localhost:8080/"
        },
        "id": "C0vY_UwrR2LL",
        "outputId": "f8d0bfa6-54cc-49c7-d24a-720699f1d34a"
      },
      "outputs": [
        {
          "name": "stdout",
          "output_type": "stream",
          "text": [
            "Analysis Results (Confidence Level: 95%)\n",
            "- Null hypothesis can be rejected. (A < B)\n",
            "===============================================\n",
            "p-value = 0.0438\n",
            "- Add to Cart CVR (A): xx %\n",
            "- Add to Cart CVR (B): xx %\n"
          ]
        }
      ],
      "source": [
        "z_result = proportion.proportions_ztest(\n",
        "    count = [xa, xb],\n",
        "    nobs = [na, nb],\n",
        "    alternative = 'smaller'\n",
        ")\n",
        "z, p_value_addtocart_cvr = z_result\n",
        "\n",
        "print(f'Analysis Results (Confidence Level: {CONFIDENCE_LEVEL * 100:.0f}%)')\n",
        "\n",
        "if p_value_addtocart_cvr < ALPHA:\n",
        "  print('- Null hypothesis can be rejected. (A < B)')\n",
        "else:\n",
        "  print('- Null hypothesis can NOT be rejected. (A >= B)')\n",
        "\n",
        "print('===============================================')\n",
        "\n",
        "print(f'p-value = {p_value_addtocart_cvr:.4f}')\n",
        "print('- Add to Cart CVR (A):', 'xx %')\n",
        "print('- Add to Cart CVR (B):', 'xx %')"
      ]
    },
    {
      "cell_type": "markdown",
      "metadata": {
        "id": "Q9rPrLZqSGpX"
      },
      "source": [
        "### 3.4. Supplementary Metrics (2) Begin-checkout CVR"
      ]
    },
    {
      "cell_type": "markdown",
      "metadata": {
        "id": "LkWEP5X9SGpY"
      },
      "source": [
        "* (1) Assumption"
      ]
    },
    {
      "cell_type": "code",
      "execution_count": 21,
      "metadata": {
        "colab": {
          "base_uri": "https://localhost:8080/"
        },
        "id": "TeqXQiyFSGpY",
        "outputId": "fccaca00-b195-4f00-bdda-4a08e934a9d8"
      },
      "outputs": [
        {
          "name": "stdout",
          "output_type": "stream",
          "text": [
            "Good to go!\n"
          ]
        }
      ],
      "source": [
        "na = begincheckout_cvr_df.groupby('test_group')['user_pseudo_id'].count()['A']\n",
        "nb = begincheckout_cvr_df.groupby('test_group')['user_pseudo_id'].count()['B']\n",
        "\n",
        "xa = begincheckout_cvr_df.groupby('test_group')['converted'].sum()['A']\n",
        "xb = begincheckout_cvr_df.groupby('test_group')['converted'].sum()['B']\n",
        "\n",
        "pa = xa / na\n",
        "pb = xb / nb\n",
        "\n",
        "if (na * pa < 5) or (na * (1 - pa) < 5) or (nb * pb < 5) or (nb * (1 - pb) < 5):\n",
        "    print('Assumption Not Satisfied!')\n",
        "else:\n",
        "    print('Good to go!')"
      ]
    },
    {
      "cell_type": "markdown",
      "metadata": {
        "id": "dBEZJIM_SGpZ"
      },
      "source": [
        "* (2) Two-proportion z-test"
      ]
    },
    {
      "cell_type": "code",
      "execution_count": 22,
      "metadata": {
        "colab": {
          "base_uri": "https://localhost:8080/"
        },
        "id": "GzwT8cMhSGpZ",
        "outputId": "894ec91b-eea8-463c-89a0-72009c883b12"
      },
      "outputs": [
        {
          "name": "stdout",
          "output_type": "stream",
          "text": [
            "Analysis Results (Confidence Level: 95%)\n",
            "- Null hypothesis can NOT be rejected. (A >= B)\n",
            "===============================================\n",
            "p-value = 0.1194\n",
            "- Begin Checkout CVR (A): xx %\n",
            "- Begin Checkout CVR (B): xx %\n"
          ]
        }
      ],
      "source": [
        "z_result = proportion.proportions_ztest(\n",
        "    count = [xa, xb],\n",
        "    nobs = [na, nb],\n",
        "    alternative = 'smaller'\n",
        ")\n",
        "z, p_value_begincheckout_cvr = z_result\n",
        "\n",
        "print(f'Analysis Results (Confidence Level: {CONFIDENCE_LEVEL * 100:.0f}%)')\n",
        "\n",
        "if p_value_begincheckout_cvr < ALPHA:\n",
        "  print('- Null hypothesis can be rejected. (A < B)')\n",
        "else:\n",
        "  print('- Null hypothesis can NOT be rejected. (A >= B)')\n",
        "\n",
        "print('===============================================')\n",
        "\n",
        "print(f'p-value = {p_value_begincheckout_cvr:.4f}')\n",
        "print('- Begin Checkout CVR (A):', 'xx %')\n",
        "print('- Begin Checkout CVR (B):', 'xx %')"
      ]
    },
    {
      "cell_type": "markdown",
      "metadata": {
        "id": "TOeDGiDHSRvo"
      },
      "source": [
        "### 3.5. Guardrail Metrics (1) Other Platforms CVR"
      ]
    },
    {
      "cell_type": "markdown",
      "metadata": {
        "id": "FoKKLyUcSRvp"
      },
      "source": [
        "* (1) Assumption"
      ]
    },
    {
      "cell_type": "code",
      "execution_count": 23,
      "metadata": {
        "colab": {
          "base_uri": "https://localhost:8080/"
        },
        "id": "UquyUBYcSRvp",
        "outputId": "2bced0a0-957a-44b2-f404-3e54b5410fe1"
      },
      "outputs": [
        {
          "name": "stdout",
          "output_type": "stream",
          "text": [
            "Good to go!\n"
          ]
        }
      ],
      "source": [
        "na = otherplatforms_cvr_df.groupby('test_group')['user_pseudo_id'].count()['A']\n",
        "nb = otherplatforms_cvr_df.groupby('test_group')['user_pseudo_id'].count()['B']\n",
        "\n",
        "xa = otherplatforms_cvr_df.groupby('test_group')['converted'].sum()['A']\n",
        "xb = otherplatforms_cvr_df.groupby('test_group')['converted'].sum()['B']\n",
        "\n",
        "pa = xa / na\n",
        "pb = xb / nb\n",
        "\n",
        "if (na * pa < 5) or (na * (1 - pa) < 5) or (nb * pb < 5) or (nb * (1 - pb) < 5):\n",
        "    print('Assumption Not Satisfied!')\n",
        "else:\n",
        "    print('Good to go!')"
      ]
    },
    {
      "cell_type": "markdown",
      "metadata": {
        "id": "6QO2ERPJSRvq"
      },
      "source": [
        "* (2) Two-proportion z-test"
      ]
    },
    {
      "cell_type": "code",
      "execution_count": 24,
      "metadata": {
        "colab": {
          "base_uri": "https://localhost:8080/"
        },
        "id": "o3jGYnRySRvq",
        "outputId": "77e330e6-3c69-4681-8121-3177af1c3157"
      },
      "outputs": [
        {
          "name": "stdout",
          "output_type": "stream",
          "text": [
            "Analysis Results (Confidence Level: 95%)\n",
            "- Null hypothesis can NOT be rejected. (A >= B)\n",
            "===============================================\n",
            "p-value = 0.5758\n",
            "- Other Platforms CVR (A): xx %\n",
            "- Other Platforms CVR (B): xx %\n"
          ]
        }
      ],
      "source": [
        "z_result = proportion.proportions_ztest(\n",
        "    count = [xa, xb],\n",
        "    nobs = [na, nb],\n",
        "    alternative = 'smaller'\n",
        ")\n",
        "z, p_value_otherplatforms_cvr = z_result\n",
        "\n",
        "print(f'Analysis Results (Confidence Level: {CONFIDENCE_LEVEL * 100:.0f}%)')\n",
        "\n",
        "if p_value_otherplatforms_cvr < ALPHA:\n",
        "  print('- Null hypothesis can be rejected. (A < B)')\n",
        "else:\n",
        "  print('- Null hypothesis can NOT be rejected. (A >= B)')\n",
        "\n",
        "print('===============================================')\n",
        "\n",
        "print(f'p-value = {p_value_otherplatforms_cvr:.4f}')\n",
        "print('- Other Platforms CVR (A):', 'xx %')\n",
        "print('- Other Platforms CVR (B):', 'xx %')"
      ]
    },
    {
      "cell_type": "markdown",
      "metadata": {},
      "source": [
        "# 4. Summary"
      ]
    },
    {
      "cell_type": "markdown",
      "metadata": {},
      "source": [
        "### 3.1. Key Metrics (1) Purchase CVR"
      ]
    },
    {
      "cell_type": "code",
      "execution_count": 25,
      "metadata": {},
      "outputs": [],
      "source": [
        "metrics = [\n",
        "    'Purchase CVR',\n",
        "    'ARPU',\n",
        "    'Add to Cart CVR',\n",
        "    'Begin Checkout CVR',\n",
        "    'Other Platforms CVR'\n",
        "]\n",
        "p_values = [\n",
        "    p_value_purchase_cvr,\n",
        "    p_value_arpu,\n",
        "    p_value_addtocart_cvr,\n",
        "    p_value_begincheckout_cvr,\n",
        "    p_value_otherplatforms_cvr\n",
        "]\n",
        "\n",
        "results_df = pd.DataFrame({\n",
        "    'metric': metrics,\n",
        "    'p_value': p_values\n",
        "})\n",
        "results_df['reject_null'] = results_df['p_value'] < ALPHA"
      ]
    },
    {
      "cell_type": "code",
      "execution_count": 26,
      "metadata": {},
      "outputs": [
        {
          "data": {
            "image/png": "[encoded data removed]",
            "text/plain": [
              "<Figure size 1500x600 with 1 Axes>"
            ]
          },
          "metadata": {},
          "output_type": "display_data"
        }
      ],
      "source": [
        "plt.figure(figsize=(15, 6))\n",
        "sns.barplot(x='metric', y='p_value', data=results_df, palette='Blues_d')\n",
        "\n",
        "plt.axhline(y=ALPHA, color='red', linestyle='--', label=f'Alpha = {ALPHA:.2f}')\n",
        "plt.title('P-values for Different Metrics')\n",
        "plt.ylabel('P-value')\n",
        "plt.legend(loc='lower left')\n",
        "\n",
        "for index, row in results_df.iterrows():\n",
        "    plt.text(index, row.p_value + 0.005, f'{row.p_value:.4f}', color='black', ha='center')"
      ]
    }
  ],
  "metadata": {
    "colab": {
      "provenance": [],
      "toc_visible": true
    },
    "kernelspec": {
      "display_name": "Python 3 (ipykernel)",
      "language": "python",
      "name": "python3"
    },
    "language_info": {
      "codemirror_mode": {
        "name": "ipython",
        "version": 3
      },
      "file_extension": ".py",
      "mimetype": "text/x-python",
      "name": "python",
      "nbconvert_exporter": "python",
      "pygments_lexer": "ipython3",
      "version": "3.8.10"
    }
  },
  "nbformat": 4,
  "nbformat_minor": 0
}
