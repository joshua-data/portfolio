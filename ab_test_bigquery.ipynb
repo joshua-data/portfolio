{
  "cells": [
    {
      "cell_type": "markdown",
      "metadata": {
        "id": "4tew41OFMLKI"
      },
      "source": [
        "# Load Libraries"
      ]
    },
    {
      "cell_type": "code",
      "execution_count": 1,
      "metadata": {
        "colab": {
          "base_uri": "https://localhost:8080/"
        },
        "id": "vT1MeVrHI0H9",
        "outputId": "ef1e10ec-fe68-4815-9e09-e43033b2401a"
      },
      "outputs": [
        {
          "name": "stdout",
          "output_type": "stream",
          "text": [
            "Drive already mounted at /content/drive/; to attempt to forcibly remount, call drive.mount(\"/content/drive/\", force_remount=True).\n"
          ]
        }
      ],
      "source": [
        "import warnings\n",
        "warnings.filterwarnings('ignore')\n",
        "\n",
        "from google.cloud import bigquery\n",
        "from google.oauth2 import service_account\n",
        "\n",
        "import numpy as np\n",
        "import pandas as pd\n",
        "\n",
        "import matplotlib.pyplot as plt\n",
        "import seaborn as sns\n",
        "%matplotlib inline\n",
        "\n",
        "from google.colab import drive\n",
        "drive.mount('/content/drive/')\n",
        "\n",
        "import scipy.stats as stats\n",
        "from scipy.stats import chi2_contingency\n",
        "from statsmodels.stats import proportion"
      ]
    },
    {
      "cell_type": "markdown",
      "metadata": {
        "id": "2J9yhNfMK_2w"
      },
      "source": [
        "# Connect to BigQuery"
      ]
    },
    {
      "cell_type": "code",
      "execution_count": 2,
      "metadata": {
        "id": "BL0onkFBK_6f"
      },
      "outputs": [],
      "source": [
        "FOLDERPATH = '/content/drive/.../config'\n",
        "\n",
        "KEY_NAME = 'key.json'\n",
        "KEY_PATH = FOLDERPATH + '/' + KEY_NAME\n",
        "\n",
        "credentials = service_account.Credentials.from_service_account_file(KEY_PATH)\n",
        "\n",
        "client = bigquery.Client(\n",
        "    credentials = credentials,\n",
        "    project = credentials.project_id\n",
        ")\n",
        "\n",
        "TABLE = 'project_id.dataset_id.events_*'"
      ]
    },
    {
      "cell_type": "markdown",
      "metadata": {
        "id": "auwABhyyOL29"
      },
      "source": [
        "# Experiment Info"
      ]
    },
    {
      "cell_type": "code",
      "execution_count": 3,
      "metadata": {
        "id": "RHay_OcbOL2-"
      },
      "outputs": [],
      "source": [
        "EXPERIMENT_ID = 'experiment_id'\n",
        "START_DATE, END_DATE = 'yyyy-mm-dd', 'yyyy-mm-dd'\n",
        "CONFIDENCE_LEVEL = 0.95\n",
        "ALPHA = 1 - CONFIDENCE_LEVEL"
      ]
    },
    {
      "cell_type": "markdown",
      "metadata": {
        "id": "3PjAT2Nqg9fL"
      },
      "source": [
        "# Independence Test"
      ]
    },
    {
      "cell_type": "markdown",
      "metadata": {
        "id": "ORsAAhPihO5x"
      },
      "source": [
        "### (1) Extract Raw Data"
      ]
    },
    {
      "cell_type": "code",
      "execution_count": 4,
      "metadata": {
        "id": "Cy1XHvv0hOD6"
      },
      "outputs": [],
      "source": [
        "SQL = f\"\"\"\n",
        "      WITH\n",
        "      CTE_raw AS (\n",
        "          SELECT\n",
        "              DISTINCT\n",
        "              user_pseudo_id,\n",
        "              (SELECT value.string_value FROM UNNEST (event_params) WHERE key = 'variant_id') AS variant_id,\n",
        "              geo.country,\n",
        "              device.category AS device_type\n",
        "          FROM\n",
        "              `{TABLE}`\n",
        "          WHERE\n",
        "              _table_suffix BETWEEN FORMAT_DATE('%Y%m%d', '{START_DATE}') AND FORMAT_DATE('%Y%m%d', '{END_DATE}')\n",
        "              AND event_name = 'experiment_impression'\n",
        "              AND (SELECT value.string_value FROM UNNEST (event_params) WHERE key = 'experiment_id') = '{EXPERIMENT_ID}'\n",
        "              AND user_pseudo_ID IS NOT NULL\n",
        "      )\n",
        "      SELECT\n",
        "          user_pseudo_id,\n",
        "          CASE\n",
        "              WHEN ENDS_WITH(variant_id, '.0') THEN 'A'\n",
        "              WHEN ENDS_WITH(variant_id, '.1') THEN 'B'\n",
        "          END AS test_group,\n",
        "          CASE\n",
        "              WHEN country IN ('South Korea', 'United States') THEN country\n",
        "              ELSE 'Others'\n",
        "          END AS country,\n",
        "          CASE\n",
        "              WHEN device_type IN ('desktop', 'mobile', 'tablet') THEN device_type\n",
        "              ELSE 'others'\n",
        "          END AS device_type\n",
        "      FROM\n",
        "          CTE_raw\n",
        "\"\"\"\n",
        "\n",
        "results = client.query(SQL)\n",
        "independence_df = results.to_dataframe()"
      ]
    },
    {
      "cell_type": "markdown",
      "metadata": {
        "id": "QOghSRsGoS-M"
      },
      "source": [
        "### (2) Independence Test"
      ]
    },
    {
      "cell_type": "markdown",
      "metadata": {
        "id": "7RWrh0r58NIF"
      },
      "source": [
        "* Country"
      ]
    },
    {
      "cell_type": "code",
      "execution_count": 5,
      "metadata": {
        "colab": {
          "base_uri": "https://localhost:8080/"
        },
        "id": "BTS-s5veoc4L",
        "outputId": "62e45a6f-4efc-4444-e813-d087b2f36008"
      },
      "outputs": [
        {
          "name": "stdout",
          "output_type": "stream",
          "text": [
            "chi-squared: 1.7531\n",
            "p-value: 0.4162\n",
            "Countries and Test Groups are Independent.\n"
          ]
        }
      ],
      "source": [
        "countries = independence_df[['test_group', 'country']]\n",
        "contingency_table = pd.crosstab(\n",
        "    countries['test_group'],\n",
        "    countries['country']\n",
        ")\n",
        "\n",
        "chi_value, p_value, df, expected = chi2_contingency(contingency_table)\n",
        "print('chi-squared:', np.round(chi_value, 4))\n",
        "print('p-value:', np.round(p_value, 4))\n",
        "\n",
        "if p_value < ALPHA:\n",
        "  print('Countries and Test Groups are Related.')\n",
        "else:\n",
        "  print('Countries and Test Groups are Independent.')"
      ]
    },
    {
      "cell_type": "markdown",
      "metadata": {
        "id": "-kkmMeYkoZMp"
      },
      "source": [
        "* Device Type"
      ]
    },
    {
      "cell_type": "code",
      "execution_count": 6,
      "metadata": {
        "colab": {
          "base_uri": "https://localhost:8080/"
        },
        "id": "ePsyRj4hj8_Z",
        "outputId": "71aca816-32b3-489e-850b-33ebfac99784"
      },
      "outputs": [
        {
          "name": "stdout",
          "output_type": "stream",
          "text": [
            "chi-squared: 4.9183\n",
            "p-value: 0.0855\n",
            "Countries and Test Groups are Independent.\n"
          ]
        }
      ],
      "source": [
        "device_types = independence_df[['test_group', 'device_type']]\n",
        "contingency_table = pd.crosstab(\n",
        "    device_types['test_group'],\n",
        "    device_types['device_type']\n",
        ")\n",
        "\n",
        "chi_value, p_value, df, expected = chi2_contingency(contingency_table)\n",
        "print('chi-squared:', np.round(chi_value, 4))\n",
        "print('p-value:', np.round(p_value, 4))\n",
        "\n",
        "if p_value < ALPHA:\n",
        "  print('Countries and Test Groups are Related.')\n",
        "else:\n",
        "  print('Countries and Test Groups are Independent.')"
      ]
    },
    {
      "cell_type": "markdown",
      "metadata": {
        "id": "hkbZi9A4OL2-"
      },
      "source": [
        "# Extract Raw Data"
      ]
    },
    {
      "cell_type": "markdown",
      "metadata": {
        "id": "2vxtHS5fOL2-"
      },
      "source": [
        "### (1) Purchase CVR, Add-to-cart CVR, Begin-checkout CVR"
      ]
    },
    {
      "cell_type": "code",
      "execution_count": 7,
      "metadata": {
        "id": "SLnYVY5JK_-O"
      },
      "outputs": [],
      "source": [
        "EVENT_NAMES = ['purchase', 'add_to_cart', 'begin_checkout']\n",
        "\n",
        "for EVENT_NAME in EVENT_NAMES:\n",
        "  SQL = f\"\"\"\n",
        "        WITH\n",
        "        CTE_raw AS (\n",
        "            SELECT\n",
        "                user_pseudo_id,\n",
        "                event_timestamp,\n",
        "                event_name,\n",
        "                (SELECT value.string_value FROM UNNEST (event_params) WHERE key = 'experiment_id') AS experiment_id,\n",
        "                (SELECT value.string_value FROM UNNEST (event_params) WHERE key = 'variant_id') AS variant_id\n",
        "            FROM\n",
        "                `{TABLE}`\n",
        "            WHERE\n",
        "                _table_suffix BETWEEN FORMAT_DATE('%Y%m%d', '{START_DATE}') AND FORMAT_DATE('%Y%m%d', '{END_DATE}')\n",
        "                AND event_name IN ('experiment_impression', '{EVENT_NAME}')\n",
        "                AND user_pseudo_ID IS NOT NULL\n",
        "                AND event_timestamp IS NOT NULL\n",
        "        ),\n",
        "        CTE_users_assigned AS (\n",
        "            SELECT\n",
        "                user_pseudo_id,\n",
        "                CASE\n",
        "                    WHEN ENDS_WITH(variant_id, '.0') THEN 'A'\n",
        "                    WHEN ENDS_WITH(variant_id, '.1') THEN 'B'\n",
        "                END AS test_group,\n",
        "                MIN(event_timestamp) AS assigned_timestamp\n",
        "            FROM\n",
        "                CTE_raw\n",
        "            WHERE\n",
        "                event_name = 'experiment_impression'\n",
        "                AND experiment_id = '{EXPERIMENT_ID}'\n",
        "                AND variant_id IS NOT NULL\n",
        "            GROUP BY\n",
        "                1, 2\n",
        "        ),\n",
        "        CTE_users_converted AS (\n",
        "            SELECT\n",
        "                user_pseudo_id,\n",
        "                event_timestamp AS converted_timestamp\n",
        "            FROM\n",
        "                CTE_raw\n",
        "            WHERE\n",
        "                event_name = '{EVENT_NAME}'\n",
        "        ),\n",
        "        CTE_users_assigned_converted AS (\n",
        "            SELECT\n",
        "                DISTINCT\n",
        "                A.user_pseudo_id\n",
        "            FROM\n",
        "                CTE_users_converted C\n",
        "            LEFT JOIN\n",
        "                CTE_users_assigned A\n",
        "                ON C.user_pseudo_id = A.user_pseudo_id\n",
        "                AND C.converted_timestamp >= A.assigned_timestamp\n",
        "        )\n",
        "        SELECT\n",
        "            A.user_pseudo_id,\n",
        "            A.test_group,\n",
        "            CASE\n",
        "                WHEN AC.user_pseudo_id IS NOT NULL THEN 1\n",
        "                ELSE 0\n",
        "            END AS converted\n",
        "        FROM\n",
        "            CTE_users_assigned A\n",
        "        LEFT JOIN\n",
        "            CTE_users_assigned_converted AC\n",
        "            ON A.user_pseudo_id = AC.user_pseudo_id\n",
        "  \"\"\"\n",
        "\n",
        "  results = client.query(SQL)\n",
        "  if EVENT_NAME == 'purchase':\n",
        "    purchase_cvr_df = results.to_dataframe()\n",
        "  elif EVENT_NAME == 'add_to_cart':\n",
        "    addtocart_cvr_df = results.to_dataframe()\n",
        "  elif EVENT_NAME == 'begin_checkout':\n",
        "    begincheckout_cvr_df = results.to_dataframe()"
      ]
    },
    {
      "cell_type": "markdown",
      "metadata": {
        "id": "pCe-YVCSIEsp"
      },
      "source": [
        "### (2) Other Platforms CVR"
      ]
    },
    {
      "cell_type": "code",
      "execution_count": 8,
      "metadata": {
        "id": "OhP0HiaPIFKS"
      },
      "outputs": [],
      "source": [
        "SQL = f\"\"\"\n",
        "      WITH\n",
        "      CTE_raw AS (\n",
        "          SELECT\n",
        "              user_pseudo_id,\n",
        "              event_timestamp,\n",
        "              event_name,\n",
        "              REPLACE(\n",
        "                  REGEXP_REPLACE(\n",
        "                      REGEXP_REPLACE(\n",
        "                          LOWER((SELECT value.string_value FROM UNNEST (event_params) WHERE key = 'page_location')),\n",
        "                          r'(\\?.*)$', ''\n",
        "                      ),\n",
        "                      r'/$', ''\n",
        "                  ),\n",
        "                  'https://', ''\n",
        "              ) AS page_location,\n",
        "              REPLACE(\n",
        "                  REGEXP_REPLACE(\n",
        "                      REGEXP_REPLACE(\n",
        "                          LOWER((SELECT value.string_value FROM UNNEST (event_params) WHERE key = 'link_url')),\n",
        "                          r'(\\?.*)$', ''\n",
        "                      ),\n",
        "                      r'/$', ''\n",
        "                  ),\n",
        "                  'https://', ''\n",
        "              ) AS link_url,\n",
        "              (SELECT value.string_value FROM UNNEST (event_params) WHERE key = 'experiment_id') AS experiment_id,\n",
        "              (SELECT value.string_value FROM UNNEST (event_params) WHERE key = 'variant_id') AS variant_id\n",
        "          FROM\n",
        "              `{TABLE}`\n",
        "          WHERE\n",
        "              _table_suffix BETWEEN FORMAT_DATE('%Y%m%d', '{START_DATE}') AND FORMAT_DATE('%Y%m%d', '{END_DATE}')\n",
        "              AND event_name IN ('experiment_impression', 'click')\n",
        "              AND user_pseudo_ID IS NOT NULL\n",
        "              AND event_timestamp IS NOT NULL\n",
        "      ),\n",
        "      CTE_users_assigned AS (\n",
        "          SELECT\n",
        "              user_pseudo_id,\n",
        "              CASE\n",
        "                  WHEN ENDS_WITH(variant_id, '.0') THEN 'A'\n",
        "                  WHEN ENDS_WITH(variant_id, '.1') THEN 'B'\n",
        "              END AS test_group,\n",
        "              MIN(event_timestamp) AS assigned_timestamp\n",
        "          FROM\n",
        "              CTE_raw\n",
        "          WHERE\n",
        "              event_name = 'experiment_impression'\n",
        "              AND experiment_id = '{EXPERIMENT_ID}'\n",
        "              AND variant_id IS NOT NULL\n",
        "          GROUP BY\n",
        "              1, 2\n",
        "      ),\n",
        "      CTE_users_converted AS (\n",
        "          SELECT\n",
        "              user_pseudo_id,\n",
        "              event_timestamp AS converted_timestamp\n",
        "          FROM\n",
        "              CTE_raw\n",
        "          WHERE\n",
        "              event_name = 'click'\n",
        "              AND page_location LIKE '%/shoplist%'\n",
        "              AND (\n",
        "                link_url LIKE '%amazon.com%'\n",
        "                OR link_url LIKE '%smartstore.naver.com%'\n",
        "                OR link_url LIKE '%coupang.com%'\n",
        "                OR link_url LIKE '%auction.co.kr%'\n",
        "                OR link_url LIKE '%11st.co.kr%'\n",
        "                OR link_url LIKE '%gmarket.co.kr%'\n",
        "              )\n",
        "      ),\n",
        "      CTE_users_assigned_converted AS (\n",
        "          SELECT\n",
        "              DISTINCT\n",
        "              A.user_pseudo_id\n",
        "          FROM\n",
        "              CTE_users_converted C\n",
        "          LEFT JOIN\n",
        "              CTE_users_assigned A\n",
        "              ON C.user_pseudo_id = A.user_pseudo_id\n",
        "              AND C.converted_timestamp >= A.assigned_timestamp\n",
        "      )\n",
        "      SELECT\n",
        "          A.user_pseudo_id,\n",
        "          A.test_group,\n",
        "          CASE\n",
        "              WHEN AC.user_pseudo_id IS NOT NULL THEN 1\n",
        "              ELSE 0\n",
        "          END AS converted\n",
        "      FROM\n",
        "          CTE_users_assigned A\n",
        "      LEFT JOIN\n",
        "          CTE_users_assigned_converted AC\n",
        "          ON A.user_pseudo_id = AC.user_pseudo_id\n",
        "\"\"\"\n",
        "\n",
        "results = client.query(SQL)\n",
        "otherplatforms_cvr_df = results.to_dataframe()"
      ]
    },
    {
      "cell_type": "markdown",
      "metadata": {
        "id": "2EsGfgGNLANc"
      },
      "source": [
        "### (3) ARPU"
      ]
    },
    {
      "cell_type": "code",
      "execution_count": 9,
      "metadata": {
        "id": "qx2JdJRiOL3A"
      },
      "outputs": [],
      "source": [
        "SQL = f\"\"\"\n",
        "      WITH\n",
        "      CTE_raw AS (\n",
        "          SELECT\n",
        "              user_pseudo_id,\n",
        "              event_timestamp,\n",
        "              event_name,\n",
        "              ecommerce.purchase_revenue_in_usd AS revenue,\n",
        "              (SELECT value.string_value FROM UNNEST (event_params) WHERE key = 'experiment_id') AS experiment_id,\n",
        "              (SELECT value.string_value FROM UNNEST (event_params) WHERE key = 'variant_id') AS variant_id\n",
        "          FROM\n",
        "              `{TABLE}`\n",
        "          WHERE\n",
        "              _table_suffix BETWEEN FORMAT_DATE('%Y%m%d', '{START_DATE}') AND FORMAT_DATE('%Y%m%d', '{END_DATE}')\n",
        "              AND event_name IN ('experiment_impression', 'purchase')\n",
        "              AND user_pseudo_ID IS NOT NULL\n",
        "              AND event_timestamp IS NOT NULL\n",
        "      ),\n",
        "      CTE_users_assigned AS (\n",
        "          SELECT\n",
        "              user_pseudo_id,\n",
        "              CASE\n",
        "                  WHEN ENDS_WITH(variant_id, '.0') THEN 'A'\n",
        "                  WHEN ENDS_WITH(variant_id, '.1') THEN 'B'\n",
        "              END AS test_group,\n",
        "              MIN(event_timestamp) AS assigned_timestamp\n",
        "          FROM\n",
        "              CTE_raw\n",
        "          WHERE\n",
        "              event_name = 'experiment_impression'\n",
        "              AND experiment_id = '{EXPERIMENT_ID}'\n",
        "              AND variant_id IS NOT NULL\n",
        "          GROUP BY\n",
        "              1, 2\n",
        "      ),\n",
        "      CTE_users_revenue AS (\n",
        "          SELECT\n",
        "              user_pseudo_id,\n",
        "              event_timestamp AS purchased_timestamp,\n",
        "              revenue\n",
        "          FROM\n",
        "              CTE_raw\n",
        "          WHERE\n",
        "              event_name = 'purchase'\n",
        "      ),\n",
        "      CTE_users_assigned_revenue AS (\n",
        "          SELECT\n",
        "              A.user_pseudo_id,\n",
        "              SUM(R.revenue) AS revenue\n",
        "          FROM\n",
        "              CTE_users_revenue R\n",
        "          LEFT JOIN\n",
        "              CTE_users_assigned A\n",
        "              ON R.user_pseudo_id = A.user_pseudo_id\n",
        "              AND R.purchased_timestamp > A.assigned_timestamp\n",
        "          GROUP BY\n",
        "              1\n",
        "      )\n",
        "      SELECT\n",
        "          A.user_pseudo_id,\n",
        "          A.test_group,\n",
        "          COALESCE(AR.revenue, 0) AS revenue\n",
        "      FROM\n",
        "          CTE_users_assigned A\n",
        "      LEFT JOIN\n",
        "          CTE_users_assigned_revenue AR\n",
        "          ON A.user_pseudo_id = AR.user_pseudo_id\n",
        "\"\"\"\n",
        "\n",
        "results = client.query(SQL)\n",
        "arpu_df = results.to_dataframe()"
      ]
    },
    {
      "cell_type": "markdown",
      "metadata": {
        "id": "BUEc6_OwOL3E"
      },
      "source": [
        "# Analysis"
      ]
    },
    {
      "cell_type": "markdown",
      "metadata": {
        "id": "jYfB4S3AOL3E"
      },
      "source": [
        "### Key Metrics (1) Purchase CVR"
      ]
    },
    {
      "cell_type": "markdown",
      "metadata": {
        "id": "QX2qSZFeOL3E"
      },
      "source": [
        "* Assumption"
      ]
    },
    {
      "cell_type": "code",
      "execution_count": 10,
      "metadata": {
        "colab": {
          "base_uri": "https://localhost:8080/"
        },
        "id": "Cttae1eKLNz9",
        "outputId": "8dbfbfee-7527-4275-95fb-96e9666db0e4"
      },
      "outputs": [
        {
          "name": "stdout",
          "output_type": "stream",
          "text": [
            "Good to go!\n"
          ]
        }
      ],
      "source": [
        "na = purchase_cvr_df.groupby('test_group')['user_pseudo_id'].count()['A']\n",
        "nb = purchase_cvr_df.groupby('test_group')['user_pseudo_id'].count()['B']\n",
        "\n",
        "xa = purchase_cvr_df.groupby('test_group')['converted'].sum()['A']\n",
        "xb = purchase_cvr_df.groupby('test_group')['converted'].sum()['B']\n",
        "\n",
        "pa = xa / na\n",
        "pb = xb / nb\n",
        "\n",
        "if (na * pa < 5) or (na * (1 - pa) < 5) or (nb * pb < 5) or (nb * (1 - pb) < 5):\n",
        "    print('Assumption Not Satisfied!')\n",
        "else:\n",
        "    print('Good to go!')"
      ]
    },
    {
      "cell_type": "markdown",
      "metadata": {
        "id": "VOXXm91aOL3E"
      },
      "source": [
        "* Two-proportion z-test"
      ]
    },
    {
      "cell_type": "code",
      "execution_count": 11,
      "metadata": {
        "colab": {
          "base_uri": "https://localhost:8080/"
        },
        "id": "G4Rs9OrtOL3F",
        "outputId": "6fa869ec-3605-4f23-996e-e6876fed1fae"
      },
      "outputs": [
        {
          "name": "stdout",
          "output_type": "stream",
          "text": [
            "Analysis Results (Confidence Level: 95%)\n",
            "- Null hypothesis can NOT be rejected. (A >= B)\n",
            "===============================================\n",
            "p-value = 0.0999\n",
            "- Purchase CVR (A): 5.13%\n",
            "- Purchase CVR (B): 6.32%\n"
          ]
        }
      ],
      "source": [
        "z_result = proportion.proportions_ztest(\n",
        "    count = [xa, xb],\n",
        "    nobs = [na, nb],\n",
        "    alternative = 'smaller'\n",
        ")\n",
        "z, p_value = z_result\n",
        "\n",
        "print(f'Analysis Results (Confidence Level: {CONFIDENCE_LEVEL * 100:.0f}%)')\n",
        "\n",
        "if p_value < ALPHA:\n",
        "  print('- Null hypothesis can be rejected. (A < B)')\n",
        "else:\n",
        "  print('- Null hypothesis can NOT be rejected. (A >= B)')\n",
        "\n",
        "print('===============================================')\n",
        "\n",
        "print(f'p-value = {p_value:.4f}')\n",
        "print('- Purchase CVR (A):', f'{pa * 100:.2f}%')\n",
        "print('- Purchase CVR (B):', f'{pb * 100:.2f}%')"
      ]
    },
    {
      "cell_type": "markdown",
      "metadata": {
        "id": "DgiUdtl_OL3F"
      },
      "source": [
        "### Key Metrics (2) ARPU"
      ]
    },
    {
      "cell_type": "markdown",
      "metadata": {
        "id": "axifZAq6OL3F"
      },
      "source": [
        "* Assumption"
      ]
    },
    {
      "cell_type": "code",
      "execution_count": 12,
      "metadata": {
        "colab": {
          "base_uri": "https://localhost:8080/"
        },
        "id": "T2YCmB63OL3F",
        "outputId": "33a9bb0d-f5e7-49e1-abbe-73746602a5d3"
      },
      "outputs": [
        {
          "name": "stdout",
          "output_type": "stream",
          "text": [
            "Good to go!\n"
          ]
        }
      ],
      "source": [
        "na = arpu_df.groupby('test_group')['user_pseudo_id'].count()['A']\n",
        "nb = arpu_df.groupby('test_group')['user_pseudo_id'].count()['B']\n",
        "\n",
        "if na + nb < 30:\n",
        "    print('Assumption Not Satisfied!')\n",
        "else:\n",
        "    print('Good to go!')"
      ]
    },
    {
      "cell_type": "markdown",
      "metadata": {
        "id": "haxb0YEoOL3F"
      },
      "source": [
        "* Equal-variance Test: Bartlett's Test"
      ]
    },
    {
      "cell_type": "code",
      "execution_count": 13,
      "metadata": {
        "colab": {
          "base_uri": "https://localhost:8080/"
        },
        "id": "MrPuPjUzOL3F",
        "outputId": "f04713ab-9dae-4d87-8f21-6c15326d9dbc"
      },
      "outputs": [
        {
          "name": "stdout",
          "output_type": "stream",
          "text": [
            "Equal-variance Test Results (Confidence Level: 95%)\n",
            "- Variances are equal!\n"
          ]
        }
      ],
      "source": [
        "stat, p_value = stats.bartlett(\n",
        "    arpu_df[arpu_df['test_group'] == 'A']['revenue'].reset_index(drop=True),\n",
        "    arpu_df[arpu_df['test_group'] == 'B']['revenue'].reset_index(drop=True)\n",
        ")\n",
        "\n",
        "print(f'Equal-variance Test Results (Confidence Level: {CONFIDENCE_LEVEL * 100:.0f}%)')\n",
        "\n",
        "if p_value < ALPHA:\n",
        "  print('- Variances are NOT equal!')\n",
        "  EQUAL_VAR = False\n",
        "else:\n",
        "  print('- Variances are equal!')\n",
        "  EQUAL_VAR = True"
      ]
    },
    {
      "cell_type": "markdown",
      "metadata": {
        "id": "oei9c4neOL3G"
      },
      "source": [
        "* Two-sample t-test"
      ]
    },
    {
      "cell_type": "code",
      "execution_count": 14,
      "metadata": {
        "colab": {
          "base_uri": "https://localhost:8080/"
        },
        "id": "ox3TtMQVOL3G",
        "outputId": "816ee80f-c3b9-4975-c989-fc8dc03e8b5f"
      },
      "outputs": [
        {
          "name": "stdout",
          "output_type": "stream",
          "text": [
            "Analysis Results (Confidence Level: 95%)\n",
            "- Null hypothesis can NOT be rejected. (A >= B)\n",
            "===============================================\n",
            "p-value = 0.2309\n",
            "- ARPU (A): 4.69%\n",
            "- ARPU (B): 5.43%\n"
          ]
        }
      ],
      "source": [
        "t_result = stats.ttest_ind(\n",
        "    arpu_df[arpu_df['test_group'] == 'A']['revenue'].reset_index(drop=True),\n",
        "    arpu_df[arpu_df['test_group'] == 'B']['revenue'].reset_index(drop=True),\n",
        "    equal_var = EQUAL_VAR,\n",
        "    alternative = 'less'\n",
        ")\n",
        "t, p_value = t_result\n",
        "\n",
        "print(f'Analysis Results (Confidence Level: {CONFIDENCE_LEVEL * 100:.0f}%)')\n",
        "\n",
        "if p_value < ALPHA:\n",
        "  print('- Null hypothesis can be rejected. (A < B)')\n",
        "else:\n",
        "  print('- Null hypothesis can NOT be rejected. (A >= B)')\n",
        "\n",
        "print('===============================================')\n",
        "\n",
        "mean_a = arpu_df.groupby('test_group')['revenue'].mean()[0]\n",
        "mean_b = arpu_df.groupby('test_group')['revenue'].mean()[1]\n",
        "\n",
        "print(f'p-value = {p_value:.4f}')\n",
        "print('- ARPU (A):', f'{mean_a:.2f}%')\n",
        "print('- ARPU (B):', f'{mean_b:.2f}%')"
      ]
    },
    {
      "cell_type": "markdown",
      "metadata": {
        "id": "JvnQBk54OL3G"
      },
      "source": [
        "### Supplementary Metrics (1) Add-to-cart CVR"
      ]
    },
    {
      "cell_type": "markdown",
      "metadata": {
        "id": "d-soiMEOR2LK"
      },
      "source": [
        "* Assumption"
      ]
    },
    {
      "cell_type": "code",
      "execution_count": 15,
      "metadata": {
        "colab": {
          "base_uri": "https://localhost:8080/"
        },
        "id": "WPJCy_F3R2LL",
        "outputId": "5233b873-2b2a-4d8a-fcc4-853bbe179535"
      },
      "outputs": [
        {
          "name": "stdout",
          "output_type": "stream",
          "text": [
            "Good to go!\n"
          ]
        }
      ],
      "source": [
        "na = addtocart_cvr_df.groupby('test_group')['user_pseudo_id'].count()['A']\n",
        "nb = addtocart_cvr_df.groupby('test_group')['user_pseudo_id'].count()['B']\n",
        "\n",
        "xa = addtocart_cvr_df.groupby('test_group')['converted'].sum()['A']\n",
        "xb = addtocart_cvr_df.groupby('test_group')['converted'].sum()['B']\n",
        "\n",
        "pa = xa / na\n",
        "pb = xb / nb\n",
        "\n",
        "if (na * pa < 5) or (na * (1 - pa) < 5) or (nb * pb < 5) or (nb * (1 - pb) < 5):\n",
        "    print('Assumption Not Satisfied!')\n",
        "else:\n",
        "    print('Good to go!')"
      ]
    },
    {
      "cell_type": "markdown",
      "metadata": {
        "id": "2eDKTT9ER2LL"
      },
      "source": [
        "* Two-proportion z-test"
      ]
    },
    {
      "cell_type": "code",
      "execution_count": 16,
      "metadata": {
        "colab": {
          "base_uri": "https://localhost:8080/"
        },
        "id": "C0vY_UwrR2LL",
        "outputId": "f8d0bfa6-54cc-49c7-d24a-720699f1d34a"
      },
      "outputs": [
        {
          "name": "stdout",
          "output_type": "stream",
          "text": [
            "Analysis Results (Confidence Level: 95%)\n",
            "- Null hypothesis can be rejected. (A < B)\n",
            "===============================================\n",
            "p-value = 0.0438\n",
            "- Purchase CVR (A): 1.52%\n",
            "- Purchase CVR (B): 2.48%\n"
          ]
        }
      ],
      "source": [
        "z_result = proportion.proportions_ztest(\n",
        "    count = [xa, xb],\n",
        "    nobs = [na, nb],\n",
        "    alternative = 'smaller'\n",
        ")\n",
        "z, p_value = z_result\n",
        "\n",
        "print(f'Analysis Results (Confidence Level: {CONFIDENCE_LEVEL * 100:.0f}%)')\n",
        "\n",
        "if p_value < ALPHA:\n",
        "  print('- Null hypothesis can be rejected. (A < B)')\n",
        "else:\n",
        "  print('- Null hypothesis can NOT be rejected. (A >= B)')\n",
        "\n",
        "print('===============================================')\n",
        "\n",
        "print(f'p-value = {p_value:.4f}')\n",
        "print('- Purchase CVR (A):', f'{pa * 100:.2f}%')\n",
        "print('- Purchase CVR (B):', f'{pb * 100:.2f}%')"
      ]
    },
    {
      "cell_type": "markdown",
      "metadata": {
        "id": "Q9rPrLZqSGpX"
      },
      "source": [
        "### Supplementary Metrics (2) Begin-checkout CVR"
      ]
    },
    {
      "cell_type": "markdown",
      "metadata": {
        "id": "LkWEP5X9SGpY"
      },
      "source": [
        "* Assumption"
      ]
    },
    {
      "cell_type": "code",
      "execution_count": 17,
      "metadata": {
        "colab": {
          "base_uri": "https://localhost:8080/"
        },
        "id": "TeqXQiyFSGpY",
        "outputId": "fccaca00-b195-4f00-bdda-4a08e934a9d8"
      },
      "outputs": [
        {
          "name": "stdout",
          "output_type": "stream",
          "text": [
            "Good to go!\n"
          ]
        }
      ],
      "source": [
        "na = begincheckout_cvr_df.groupby('test_group')['user_pseudo_id'].count()['A']\n",
        "nb = begincheckout_cvr_df.groupby('test_group')['user_pseudo_id'].count()['B']\n",
        "\n",
        "xa = begincheckout_cvr_df.groupby('test_group')['converted'].sum()['A']\n",
        "xb = begincheckout_cvr_df.groupby('test_group')['converted'].sum()['B']\n",
        "\n",
        "pa = xa / na\n",
        "pb = xb / nb\n",
        "\n",
        "if (na * pa < 5) or (na * (1 - pa) < 5) or (nb * pb < 5) or (nb * (1 - pb) < 5):\n",
        "    print('Assumption Not Satisfied!')\n",
        "else:\n",
        "    print('Good to go!')"
      ]
    },
    {
      "cell_type": "markdown",
      "metadata": {
        "id": "dBEZJIM_SGpZ"
      },
      "source": [
        "* Two-proportion z-test"
      ]
    },
    {
      "cell_type": "code",
      "execution_count": 18,
      "metadata": {
        "colab": {
          "base_uri": "https://localhost:8080/"
        },
        "id": "GzwT8cMhSGpZ",
        "outputId": "894ec91b-eea8-463c-89a0-72009c883b12"
      },
      "outputs": [
        {
          "name": "stdout",
          "output_type": "stream",
          "text": [
            "Analysis Results (Confidence Level: 95%)\n",
            "- Null hypothesis can NOT be rejected. (A >= B)\n",
            "===============================================\n",
            "p-value = 0.1769\n",
            "- Purchase CVR (A): 6.57%\n",
            "- Purchase CVR (B): 7.52%\n"
          ]
        }
      ],
      "source": [
        "z_result = proportion.proportions_ztest(\n",
        "    count = [xa, xb],\n",
        "    nobs = [na, nb],\n",
        "    alternative = 'smaller'\n",
        ")\n",
        "z, p_value = z_result\n",
        "\n",
        "print(f'Analysis Results (Confidence Level: {CONFIDENCE_LEVEL * 100:.0f}%)')\n",
        "\n",
        "if p_value < ALPHA:\n",
        "  print('- Null hypothesis can be rejected. (A < B)')\n",
        "else:\n",
        "  print('- Null hypothesis can NOT be rejected. (A >= B)')\n",
        "\n",
        "print('===============================================')\n",
        "\n",
        "print(f'p-value = {p_value:.4f}')\n",
        "print('- Purchase CVR (A):', f'{pa * 100:.2f}%')\n",
        "print('- Purchase CVR (B):', f'{pb * 100:.2f}%')"
      ]
    },
    {
      "cell_type": "markdown",
      "metadata": {
        "id": "TOeDGiDHSRvo"
      },
      "source": [
        "### Guardrail Metrics (1) Other Platforms CVR"
      ]
    },
    {
      "cell_type": "markdown",
      "metadata": {
        "id": "FoKKLyUcSRvp"
      },
      "source": [
        "* Assumption"
      ]
    },
    {
      "cell_type": "code",
      "execution_count": 19,
      "metadata": {
        "colab": {
          "base_uri": "https://localhost:8080/"
        },
        "id": "UquyUBYcSRvp",
        "outputId": "2bced0a0-957a-44b2-f404-3e54b5410fe1"
      },
      "outputs": [
        {
          "name": "stdout",
          "output_type": "stream",
          "text": [
            "Good to go!\n"
          ]
        }
      ],
      "source": [
        "na = otherplatforms_cvr_df.groupby('test_group')['user_pseudo_id'].count()['A']\n",
        "nb = otherplatforms_cvr_df.groupby('test_group')['user_pseudo_id'].count()['B']\n",
        "\n",
        "xa = otherplatforms_cvr_df.groupby('test_group')['converted'].sum()['A']\n",
        "xb = otherplatforms_cvr_df.groupby('test_group')['converted'].sum()['B']\n",
        "\n",
        "pa = xa / na\n",
        "pb = xb / nb\n",
        "\n",
        "if (na * pa < 5) or (na * (1 - pa) < 5) or (nb * pb < 5) or (nb * (1 - pb) < 5):\n",
        "    print('Assumption Not Satisfied!')\n",
        "else:\n",
        "    print('Good to go!')"
      ]
    },
    {
      "cell_type": "markdown",
      "metadata": {
        "id": "6QO2ERPJSRvq"
      },
      "source": [
        "* Two-proportion z-test"
      ]
    },
    {
      "cell_type": "code",
      "execution_count": 20,
      "metadata": {
        "colab": {
          "base_uri": "https://localhost:8080/"
        },
        "id": "o3jGYnRySRvq",
        "outputId": "77e330e6-3c69-4681-8121-3177af1c3157"
      },
      "outputs": [
        {
          "name": "stdout",
          "output_type": "stream",
          "text": [
            "Analysis Results (Confidence Level: 95%)\n",
            "- Null hypothesis can NOT be rejected. (A >= B)\n",
            "===============================================\n",
            "p-value = 0.5018\n",
            "- Purchase CVR (A): 1.28%\n",
            "- Purchase CVR (B): 1.28%\n"
          ]
        }
      ],
      "source": [
        "z_result = proportion.proportions_ztest(\n",
        "    count = [xa, xb],\n",
        "    nobs = [na, nb],\n",
        "    alternative = 'smaller'\n",
        ")\n",
        "z, p_value = z_result\n",
        "\n",
        "print(f'Analysis Results (Confidence Level: {CONFIDENCE_LEVEL * 100:.0f}%)')\n",
        "\n",
        "if p_value < ALPHA:\n",
        "  print('- Null hypothesis can be rejected. (A < B)')\n",
        "else:\n",
        "  print('- Null hypothesis can NOT be rejected. (A >= B)')\n",
        "\n",
        "print('===============================================')\n",
        "\n",
        "print(f'p-value = {p_value:.4f}')\n",
        "print('- Purchase CVR (A):', f'{pa * 100:.2f}%')\n",
        "print('- Purchase CVR (B):', f'{pb * 100:.2f}%')"
      ]
    }
  ],
  "metadata": {
    "colab": {
      "provenance": [],
      "toc_visible": true
    },
    "kernelspec": {
      "display_name": "Python 3 (ipykernel)",
      "language": "python",
      "name": "python3"
    },
    "language_info": {
      "codemirror_mode": {
        "name": "ipython",
        "version": 3
      },
      "file_extension": ".py",
      "mimetype": "text/x-python",
      "name": "python",
      "nbconvert_exporter": "python",
      "pygments_lexer": "ipython3",
      "version": "3.9.13"
    }
  },
  "nbformat": 4,
  "nbformat_minor": 0
}
